{
  "nbformat": 4,
  "nbformat_minor": 0,
  "metadata": {
    "kernelspec": {
      "display_name": "Python 3",
      "language": "python",
      "name": "python3"
    },
    "language_info": {
      "codemirror_mode": {
        "name": "ipython",
        "version": 3
      },
      "file_extension": ".py",
      "mimetype": "text/x-python",
      "name": "python",
      "nbconvert_exporter": "python",
      "pygments_lexer": "ipython3",
      "version": "3.7.6"
    },
    "colab": {
      "name": "Copy of AlphabetRecognitionFinal.ipynb",
      "provenance": [],
      "collapsed_sections": [],
      "include_colab_link": true
    },
    "accelerator": "GPU"
  },
  "cells": [
    {
      "cell_type": "markdown",
      "metadata": {
        "id": "view-in-github",
        "colab_type": "text"
      },
      "source": [
        "<a href=\"https://colab.research.google.com/github/Pavithratrdev/PlacementKITE/blob/master/AlphabetRecognitionFinal.ipynb\" target=\"_parent\"><img src=\"https://colab.research.google.com/assets/colab-badge.svg\" alt=\"Open In Colab\"/></a>"
      ]
    },
    {
      "cell_type": "markdown",
      "metadata": {
        "id": "zC72iDyMdgU7"
      },
      "source": [
        "## Alphabet Recognition System using Convolutional Neural Network (CNN)"
      ]
    },
    {
      "cell_type": "markdown",
      "metadata": {
        "id": "kVfOyn_pdgVG"
      },
      "source": [
        "Convolutional Neural Network (CNN) is a Deep Learning Algorithm widely used for character recognition. This algorithm identifies the alphabet from the given input image.\n",
        "\n",
        "The accuracy achieved using this algorithm is 93.42%.\n",
        "\n",
        "## 1. Anvil Integration"
      ]
    },
    {
      "cell_type": "code",
      "metadata": {
        "colab": {
          "base_uri": "https://localhost:8080/",
          "height": 411
        },
        "id": "XzcnscJieF30",
        "outputId": "0561719d-043a-436e-b49b-b9ca8d0a1518"
      },
      "source": [
        "pip install anvil-uplink"
      ],
      "execution_count": 3,
      "outputs": [
        {
          "output_type": "stream",
          "name": "stdout",
          "text": [
            "Collecting anvil-uplink\n",
            "  Downloading anvil_uplink-0.3.40-py2.py3-none-any.whl (62 kB)\n",
            "\u001b[?25l\r\u001b[K     |█████▏                          | 10 kB 21.8 MB/s eta 0:00:01\r\u001b[K     |██████████▍                     | 20 kB 26.0 MB/s eta 0:00:01\r\u001b[K     |███████████████▋                | 30 kB 31.9 MB/s eta 0:00:01\r\u001b[K     |████████████████████▉           | 40 kB 30.4 MB/s eta 0:00:01\r\u001b[K     |██████████████████████████      | 51 kB 31.3 MB/s eta 0:00:01\r\u001b[K     |███████████████████████████████▎| 61 kB 32.5 MB/s eta 0:00:01\r\u001b[K     |████████████████████████████████| 62 kB 1.3 MB/s \n",
            "\u001b[?25hCollecting argparse\n",
            "  Downloading argparse-1.4.0-py2.py3-none-any.whl (23 kB)\n",
            "Collecting ws4py\n",
            "  Downloading ws4py-0.5.1.tar.gz (51 kB)\n",
            "\u001b[?25l\r\u001b[K     |██████▍                         | 10 kB 34.9 MB/s eta 0:00:01\r\u001b[K     |████████████▊                   | 20 kB 43.5 MB/s eta 0:00:01\r\u001b[K     |███████████████████▏            | 30 kB 52.1 MB/s eta 0:00:01\r\u001b[K     |█████████████████████████▌      | 40 kB 56.5 MB/s eta 0:00:01\r\u001b[K     |███████████████████████████████▉| 51 kB 62.2 MB/s eta 0:00:01\r\u001b[K     |████████████████████████████████| 51 kB 187 kB/s \n",
            "\u001b[?25hRequirement already satisfied: six in /usr/local/lib/python3.7/dist-packages (from anvil-uplink) (1.15.0)\n",
            "Requirement already satisfied: future in /usr/local/lib/python3.7/dist-packages (from anvil-uplink) (0.16.0)\n",
            "Building wheels for collected packages: ws4py\n",
            "  Building wheel for ws4py (setup.py) ... \u001b[?25l\u001b[?25hdone\n",
            "  Created wheel for ws4py: filename=ws4py-0.5.1-py3-none-any.whl size=45230 sha256=650bb3135d76a8c7cf23c2ecabf76609a6491eb48730de5518768d2bd60eca8e\n",
            "  Stored in directory: /root/.cache/pip/wheels/29/ea/7d/3410aa0aa0e4402ead9a7a97ab2214804887e0f5c2b76f0c96\n",
            "Successfully built ws4py\n",
            "Installing collected packages: ws4py, argparse, anvil-uplink\n",
            "Successfully installed anvil-uplink-0.3.40 argparse-1.4.0 ws4py-0.5.1\n"
          ]
        },
        {
          "output_type": "display_data",
          "data": {
            "application/vnd.colab-display-data+json": {
              "pip_warning": {
                "packages": [
                  "argparse",
                  "google"
                ]
              }
            }
          },
          "metadata": {}
        }
      ]
    },
    {
      "cell_type": "code",
      "metadata": {
        "id": "NUNMe_zDdgVI",
        "colab": {
          "base_uri": "https://localhost:8080/"
        },
        "outputId": "50a6418e-4fba-456e-c7ee-fca2f20a44fc"
      },
      "source": [
        "import anvil.server\n",
        "import anvil.media\n",
        "anvil.server.connect(\"44STZQZQTYAAVHHWGRPMXDRN-P5VUQGPD3HW5UMWJ\")"
      ],
      "execution_count": 4,
      "outputs": [
        {
          "output_type": "stream",
          "name": "stdout",
          "text": [
            "Connecting to wss://anvil.works/uplink\n",
            "Anvil websocket open\n",
            "Connected to \"Default environment\" as SERVER\n"
          ]
        }
      ]
    },
    {
      "cell_type": "markdown",
      "metadata": {
        "id": "N61tsgaDdgVL"
      },
      "source": [
        "## 2. Importing Libraries"
      ]
    },
    {
      "cell_type": "code",
      "metadata": {
        "id": "JpBRvgYEdgVM"
      },
      "source": [
        "import numpy as np\n",
        "import matplotlib.pyplot as plt\n",
        "from keras.preprocessing.image import ImageDataGenerator\n",
        "from keras.preprocessing import image\n",
        "import keras\n",
        "from keras.models import Sequential\n",
        "from keras.layers import Conv2D, MaxPooling2D, Flatten, Dense, Activation\n",
        "import os\n",
        "import pickle\n"
      ],
      "execution_count": 1,
      "outputs": []
    },
    {
      "cell_type": "code",
      "metadata": {
        "id": "i7ZTl8luix1I",
        "colab": {
          "base_uri": "https://localhost:8080/"
        },
        "outputId": "4b03d613-f4a1-4571-d777-e06567af6d6d"
      },
      "source": [
        "from google.colab import drive\n",
        "drive.mount('/content/drive')"
      ],
      "execution_count": 2,
      "outputs": [
        {
          "output_type": "stream",
          "name": "stdout",
          "text": [
            "Mounted at /content/drive\n"
          ]
        }
      ]
    },
    {
      "cell_type": "markdown",
      "metadata": {
        "id": "ghURjJIrdgVN"
      },
      "source": [
        "## 3. Defining the Model Architecture"
      ]
    },
    {
      "cell_type": "code",
      "metadata": {
        "colab": {
          "base_uri": "https://localhost:8080/"
        },
        "id": "KgTzj79IdgVO",
        "outputId": "aa3429d2-a5b0-47cf-d9f1-de2bc1c93185"
      },
      "source": [
        "model = Sequential()\n",
        "model.add(Conv2D(32, (3, 3), input_shape = (32,32,3), activation = 'relu'))\n",
        "model.add(MaxPooling2D(pool_size = (2, 2)))\n",
        "\n",
        "\n",
        "model.add(Conv2D(32, (3, 3), activation = 'relu'))\n",
        "model.add(MaxPooling2D(pool_size = (2, 2)))\n",
        "\n",
        "model.add(Flatten())\n",
        "l2 = Dense(units = 128, activation = 'relu')\n",
        "model.add(l2)\n",
        "model.add(Dense(units = 26, activation = 'softmax'))\n",
        "\n",
        "\n",
        "# one hot encoding (a,b,c) => [1,0,0], [0,1,0], [0,0,1]\n",
        "# integer encoding (a,b,c) => 1,2,3 => sparse_categorical_crossentropy\n",
        "\n",
        "model.compile(optimizer = 'adam', loss = 'categorical_crossentropy', metrics = ['accuracy'])\n",
        "\n",
        "model.summary()\n"
      ],
      "execution_count": 4,
      "outputs": [
        {
          "output_type": "stream",
          "name": "stdout",
          "text": [
            "Model: \"sequential_1\"\n",
            "_________________________________________________________________\n",
            "Layer (type)                 Output Shape              Param #   \n",
            "=================================================================\n",
            "conv2d_2 (Conv2D)            (None, 30, 30, 32)        896       \n",
            "_________________________________________________________________\n",
            "max_pooling2d_2 (MaxPooling2 (None, 15, 15, 32)        0         \n",
            "_________________________________________________________________\n",
            "conv2d_3 (Conv2D)            (None, 13, 13, 32)        9248      \n",
            "_________________________________________________________________\n",
            "max_pooling2d_3 (MaxPooling2 (None, 6, 6, 32)          0         \n",
            "_________________________________________________________________\n",
            "flatten_1 (Flatten)          (None, 1152)              0         \n",
            "_________________________________________________________________\n",
            "dense_2 (Dense)              (None, 128)               147584    \n",
            "_________________________________________________________________\n",
            "dense_3 (Dense)              (None, 26)                3354      \n",
            "=================================================================\n",
            "Total params: 161,082\n",
            "Trainable params: 161,082\n",
            "Non-trainable params: 0\n",
            "_________________________________________________________________\n"
          ]
        }
      ]
    },
    {
      "cell_type": "code",
      "metadata": {
        "id": "dXPH7GdrxtoT"
      },
      "source": [
        "l2.get_weights()"
      ],
      "execution_count": null,
      "outputs": []
    },
    {
      "cell_type": "markdown",
      "metadata": {
        "id": "SiVVDyJbdgVQ"
      },
      "source": [
        "## 4. Importing the Dataset"
      ]
    },
    {
      "cell_type": "code",
      "metadata": {
        "colab": {
          "base_uri": "https://localhost:8080/"
        },
        "id": "1SMCZskJdgVR",
        "outputId": "b74171f5-42bd-42c2-d372-0c2a19b186cc"
      },
      "source": [
        "train_datagen = ImageDataGenerator(rescale = 1./255,\n",
        "                                   shear_range = 0.2,\n",
        "                                   zoom_range = 0.2,\n",
        "                                   horizontal_flip = True)\n",
        "\n",
        "test_datagen = ImageDataGenerator(rescale = 1./255)\n",
        "\n",
        "train_generator = train_datagen.flow_from_directory(\n",
        "    directory = '/content/drive/MyDrive/Training Alphabets',\n",
        "    target_size = (32,32),\n",
        "    batch_size = 32,\n",
        "    class_mode = 'categorical'\n",
        "\n",
        ")\n",
        "\n",
        "test_generator = test_datagen.flow_from_directory(\n",
        "    directory = '/content/drive/MyDrive/Training Alphabets',\n",
        "    target_size = (32,32),\n",
        "    batch_size = 32,\n",
        "    class_mode = 'categorical'\n",
        ")"
      ],
      "execution_count": 7,
      "outputs": [
        {
          "output_type": "stream",
          "name": "stdout",
          "text": [
            "Found 501 images belonging to 26 classes.\n",
            "Found 501 images belonging to 26 classes.\n"
          ]
        }
      ]
    },
    {
      "cell_type": "markdown",
      "metadata": {
        "id": "fhMLoZ6UdgVS"
      },
      "source": [
        "## 5. Training the Model"
      ]
    },
    {
      "cell_type": "code",
      "metadata": {
        "colab": {
          "base_uri": "https://localhost:8080/"
        },
        "id": "L5XDZ4owdgVT",
        "outputId": "590a469a-edde-45b5-ae79-d18946dc8469"
      },
      "source": [
        "history = model.fit_generator(train_generator,\n",
        "                         steps_per_epoch = 16,\n",
        "                         epochs = 3,\n",
        "                         validation_data = test_generator,\n",
        "                         validation_steps = 16)"
      ],
      "execution_count": 8,
      "outputs": [
        {
          "output_type": "stream",
          "name": "stderr",
          "text": [
            "/usr/local/lib/python3.7/dist-packages/keras/engine/training.py:1972: UserWarning: `Model.fit_generator` is deprecated and will be removed in a future version. Please use `Model.fit`, which supports generators.\n",
            "  warnings.warn('`Model.fit_generator` is deprecated and '\n"
          ]
        },
        {
          "output_type": "stream",
          "name": "stdout",
          "text": [
            "Epoch 1/3\n",
            "16/16 [==============================] - 137s 7s/step - loss: 3.1764 - accuracy: 0.1238 - val_loss: 2.8734 - val_accuracy: 0.5030\n",
            "Epoch 2/3\n",
            "16/16 [==============================] - 2s 136ms/step - loss: 2.4257 - accuracy: 0.4850 - val_loss: 1.4769 - val_accuracy: 0.6188\n",
            "Epoch 3/3\n",
            "16/16 [==============================] - 2s 136ms/step - loss: 1.2494 - accuracy: 0.6248 - val_loss: 0.8147 - val_accuracy: 0.7385\n"
          ]
        }
      ]
    },
    {
      "cell_type": "markdown",
      "metadata": {
        "id": "MUbDsLdUdgVU"
      },
      "source": [
        "## 6. Saving/Loading the Model"
      ]
    },
    {
      "cell_type": "code",
      "metadata": {
        "colab": {
          "base_uri": "https://localhost:8080/"
        },
        "id": "8uCdC_PpdgVV",
        "outputId": "6bf73397-b059-426e-f7c2-37353d26a9e2"
      },
      "source": [
        "model.save('saved_model/my_model')"
      ],
      "execution_count": 9,
      "outputs": [
        {
          "output_type": "stream",
          "name": "stdout",
          "text": [
            "INFO:tensorflow:Assets written to: saved_model/my_model/assets\n"
          ]
        }
      ]
    },
    {
      "cell_type": "code",
      "metadata": {
        "id": "a_Pu4iK3ySeI"
      },
      "source": [
        "import tensorflow as tf"
      ],
      "execution_count": 11,
      "outputs": []
    },
    {
      "cell_type": "code",
      "metadata": {
        "id": "vV_kVSwCdgVW"
      },
      "source": [
        "new_model = tf.keras.models.load_model('saved_model/my_model')"
      ],
      "execution_count": 12,
      "outputs": []
    },
    {
      "cell_type": "code",
      "metadata": {
        "colab": {
          "base_uri": "https://localhost:8080/"
        },
        "id": "29hyX7GFyatj",
        "outputId": "d2af5554-937f-4f2f-bb80-a3dee385d31c"
      },
      "source": [
        "new_model.summary()"
      ],
      "execution_count": 13,
      "outputs": [
        {
          "output_type": "stream",
          "name": "stdout",
          "text": [
            "Model: \"sequential_1\"\n",
            "_________________________________________________________________\n",
            "Layer (type)                 Output Shape              Param #   \n",
            "=================================================================\n",
            "conv2d_2 (Conv2D)            (None, 30, 30, 32)        896       \n",
            "_________________________________________________________________\n",
            "max_pooling2d_2 (MaxPooling2 (None, 15, 15, 32)        0         \n",
            "_________________________________________________________________\n",
            "conv2d_3 (Conv2D)            (None, 13, 13, 32)        9248      \n",
            "_________________________________________________________________\n",
            "max_pooling2d_3 (MaxPooling2 (None, 6, 6, 32)          0         \n",
            "_________________________________________________________________\n",
            "flatten_1 (Flatten)          (None, 1152)              0         \n",
            "_________________________________________________________________\n",
            "dense_2 (Dense)              (None, 128)               147584    \n",
            "_________________________________________________________________\n",
            "dense_3 (Dense)              (None, 26)                3354      \n",
            "=================================================================\n",
            "Total params: 161,082\n",
            "Trainable params: 161,082\n",
            "Non-trainable params: 0\n",
            "_________________________________________________________________\n"
          ]
        }
      ]
    },
    {
      "cell_type": "markdown",
      "metadata": {
        "id": "gnuWEZOYdgVW"
      },
      "source": [
        "## 7. Testing the Model"
      ]
    },
    {
      "cell_type": "code",
      "metadata": {
        "colab": {
          "base_uri": "https://localhost:8080/",
          "height": 266
        },
        "id": "2R38KbkqdgVZ",
        "outputId": "56c59377-a6bb-4d69-c0b1-3fcf624a0fc3"
      },
      "source": [
        "filename = r'/content/drive/MyDrive/Training Alphabets/v/10.png'\n",
        "test_image = image.load_img(filename, target_size = (32,32))\n",
        "plt.imshow(test_image)\n",
        "test_image = image.img_to_array(test_image)\n",
        "test_image = np.expand_dims(test_image, axis = 0)\n"
      ],
      "execution_count": 21,
      "outputs": [
        {
          "output_type": "display_data",
          "data": {
            "image/png": "[encoded data removed]",
            "text/plain": [
              "<Figure size 432x288 with 1 Axes>"
            ]
          },
          "metadata": {
            "needs_background": "light"
          }
        }
      ]
    },
    {
      "cell_type": "code",
      "metadata": {
        "id": "Pylk7n_Y1ZWq"
      },
      "source": [
        "ops = os.listdir('/content/drive/MyDrive/Training Alphabets')\n",
        "ops.sort()\n",
        "ops = np.array(ops)"
      ],
      "execution_count": 30,
      "outputs": []
    },
    {
      "cell_type": "code",
      "metadata": {
        "colab": {
          "base_uri": "https://localhost:8080/",
          "height": 35
        },
        "id": "pc6Z6JN2dgVa",
        "outputId": "3e2e91eb-90d8-4ed5-d74b-7af404763151"
      },
      "source": [
        "result = model.predict(test_image)\n",
        "ops[np.argmax(result)]"
      ],
      "execution_count": 31,
      "outputs": [
        {
          "output_type": "execute_result",
          "data": {
            "application/vnd.google.colaboratory.intrinsic+json": {
              "type": "string"
            },
            "text/plain": [
              "'y'"
            ]
          },
          "metadata": {},
          "execution_count": 31
        }
      ]
    },
    {
      "cell_type": "code",
      "metadata": {
        "id": "UCYnYqD383en"
      },
      "source": [
        "labels = test_generator.classes"
      ],
      "execution_count": 35,
      "outputs": []
    },
    {
      "cell_type": "code",
      "metadata": {
        "id": "J78QvZ7t8Glw"
      },
      "source": [
        "y_pred = model.predict(test_generator)\n",
        "predictions = list(map(np.argmax, y_pred))"
      ],
      "execution_count": 46,
      "outputs": []
    },
    {
      "cell_type": "code",
      "metadata": {
        "id": "FtZttU9V9d1u"
      },
      "source": [
        "res = tf.math.confusion_matrix(labels,predictions)"
      ],
      "execution_count": 47,
      "outputs": []
    },
    {
      "cell_type": "code",
      "metadata": {
        "colab": {
          "base_uri": "https://localhost:8080/",
          "height": 884
        },
        "id": "vvxDer_z-Uvh",
        "outputId": "6ef8e0e9-9b36-4dd2-949d-87f2028072eb"
      },
      "source": [
        "import seaborn as sns\n",
        "from matplotlib import pyplot as plt\n",
        "\n",
        "plt.figure(figsize=(15,15))\n",
        "\n",
        "sns.heatmap(res, annot=True)"
      ],
      "execution_count": 50,
      "outputs": [
        {
          "output_type": "execute_result",
          "data": {
            "text/plain": [
              "<matplotlib.axes._subplots.AxesSubplot at 0x7f441cd4da90>"
            ]
          },
          "metadata": {},
          "execution_count": 50
        },
        {
          "output_type": "display_data",
          "data": {
            "image/png": "[encoded data removed]",
            "text/plain": [
              "<Figure size 1080x1080 with 2 Axes>"
            ]
          },
          "metadata": {
            "needs_background": "light"
          }
        }
      ]
    },
    {
      "cell_type": "markdown",
      "metadata": {
        "id": "EPI3KqCldgVb"
      },
      "source": [
        "## 8. Predicting the Alphabet from the Input Image"
      ]
    },
    {
      "cell_type": "markdown",
      "metadata": {
        "id": "dE4QVurYdgVb"
      },
      "source": [
        "This part of code is receives the input image from the anvil website and returns the predicted alphabet back to the website."
      ]
    },
    {
      "cell_type": "code",
      "metadata": {
        "id": "bxkqSU7zdgVc"
      },
      "source": [
        "@anvil.server.callable\n",
        "def model_run(path):\n",
        "    with anvil.media.TempFile(path) as filename:\n",
        "        test_image = image.load_img(filename, target_size = (32,32))\n",
        "        test_image = image.img_to_array(test_image)\n",
        "        test_image = np.expand_dims(test_image, axis = 0)\n",
        "        result = model.predict(test_image)\n",
        "        result = get_result(result)\n",
        "        return ('Predicted Alphabet is: {}'.format(result))\n",
        "        "
      ],
      "execution_count": null,
      "outputs": []
    },
    {
      "cell_type": "code",
      "metadata": {
        "id": "VbrzMN5BdgVd"
      },
      "source": [
        ""
      ],
      "execution_count": null,
      "outputs": []
    },
    {
      "cell_type": "code",
      "metadata": {
        "id": "phwFydgTdgVd"
      },
      "source": [
        ""
      ],
      "execution_count": null,
      "outputs": []
    }
  ]
}